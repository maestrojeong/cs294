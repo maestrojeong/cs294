{
 "cells": [
  {
   "cell_type": "code",
   "execution_count": 1,
   "metadata": {
    "collapsed": true
   },
   "outputs": [],
   "source": [
    "import tensorflow as tf\n",
    "import matplotlib.pyplot as plt\n",
    "import numpy as np"
   ]
  },
  {
   "cell_type": "markdown",
   "metadata": {},
   "source": [
    "# Digression Example\n",
    "\n",
    "## The problem setting\n",
    "\n",
    "\n",
    "\n",
    "$f(x) = x_1 + x_2$,  $c(x) = x_1^2 + x_2^2 - 1$  \n",
    "  \n",
    "  \n",
    "**Objective** \n",
    "  \n",
    "$\\min f(x)$ while $c(x) = 0$  \n",
    "  \n",
    "$$\\mathcal{L}(x,y,\\lambda)=f(x)-\\lambda c(x)+\\rho c(x)^2$$\n",
    "\n",
    "## Digression Proof sketch\n",
    "Suppose for every $\\lambda$ there exists $x^*(\\lambda)$\n",
    "\n",
    "such that minimizes $$x^*(\\lambda) = \\arg \\min_{x} \\mathcal{L}(x, \\lambda)$$\n",
    "\n",
    "$$\\frac{\\partial \\mathcal{L}(x^*(\\lambda),\\lambda)}{\\partial x} = 0$$\n",
    "\n",
    "$$\\frac{d\\mathcal{L}(x^*(\\lambda), \\lambda)}{d\\lambda} = \\frac{\\partial \\mathcal{L}}{\\partial x}\\frac{d x^*(\\lambda)}{d \\lambda}+ \\frac{\\partial \\mathcal{L}}{\\partial \\lambda} =  \\frac{\\partial \\mathcal{L}}{\\partial \\lambda}=-c(x)$$\n",
    "\n",
    "$\\lambda$ increases with **gradient ascent** to make $\\frac{d \\mathcal{L}(x^*(\\lambda), \\lambda)}{d \\lambda}=-c(x)$ to be 0"
   ]
  },
  {
   "cell_type": "markdown",
   "metadata": {},
   "source": [
    "## Known answer\n",
    "When $x = y = -\\frac{1}{\\sqrt{2}}$, $x + y = -\\sqrt{2}$ "
   ]
  },
  {
   "cell_type": "code",
   "execution_count": 2,
   "metadata": {},
   "outputs": [],
   "source": [
    "x = tf.get_variable(\"x\", shape = [1], initializer = tf.constant_initializer(0.0))\n",
    "y = tf.get_variable(\"y\", shape = [1], initializer = tf.constant_initializer(0.0))\n",
    "lamb = tf.get_variable(\"lambda\", shape = [1], initializer = tf.constant_initializer(1.0))\n",
    "rho = tf.constant([1],dtype= tf.float32, name = \"rho\")"
   ]
  },
  {
   "cell_type": "code",
   "execution_count": 3,
   "metadata": {},
   "outputs": [],
   "source": [
    "f_x = x + y\n",
    "c_x = tf.square(x)+tf.square(y)-1\n",
    "Lagrange = f_x - lamb*(c_x) + rho*tf.square(c_x)"
   ]
  },
  {
   "cell_type": "code",
   "execution_count": 4,
   "metadata": {
    "collapsed": true
   },
   "outputs": [],
   "source": [
    "learning_rate = 0.01"
   ]
  },
  {
   "cell_type": "code",
   "execution_count": 5,
   "metadata": {},
   "outputs": [],
   "source": [
    "train1 = tf.train.GradientDescentOptimizer(learning_rate).minimize(loss = Lagrange, var_list = [x, y])\n",
    "lamb_gradient = tf.gradients(ys = Lagrange, xs=lamb, grad_ys= learning_rate)"
   ]
  },
  {
   "cell_type": "code",
   "execution_count": 6,
   "metadata": {},
   "outputs": [],
   "source": [
    "train2 = tf.assign(lamb, tf.reshape(lamb + lamb_gradient, [-1]))"
   ]
  },
  {
   "cell_type": "code",
   "execution_count": 7,
   "metadata": {
    "collapsed": true
   },
   "outputs": [],
   "source": [
    "sess = tf.Session()\n",
    "sess.run(tf.global_variables_initializer())"
   ]
  },
  {
   "cell_type": "markdown",
   "metadata": {},
   "source": [
    "## Pseudo code\n",
    "> Repeat Until $C(x)$ becomes to $0$\n",
    ">> $$\\hat{x}, \\hat{y} = \\arg\\min_{x,y} \\mathcal{L}(x,y,\\lambda)$$\n",
    ">> $$\\lambda \\leftarrow \\lambda + \\frac{\\partial \\mathcal{L}(\\hat{x}, \\hat{y},\\lambda)}{\\partial \\lambda}$$ "
   ]
  },
  {
   "cell_type": "code",
   "execution_count": 8,
   "metadata": {},
   "outputs": [],
   "source": [
    "f_x_tract = []\n",
    "c_x_tract = []\n",
    "lamb_tract = []\n",
    "\n",
    "while True:\n",
    "    prev = sess.run(Lagrange)\n",
    "    while True:\n",
    "        for i in range(10):\n",
    "            sess.run(train1)\n",
    "        curr = sess.run(Lagrange)\n",
    "        if abs(curr - prev )<0.01: # Until Convergence\n",
    "            break\n",
    "        prev = curr\n",
    "    sess.run(train2)\n",
    "    f_x_tract.append(sess.run(f_x))\n",
    "    c_x_tract.append(sess.run(c_x))\n",
    "    lamb_tract.append(sess.run(lamb))\n",
    "    if abs(sess.run(c_x))<0.001: # Until Convergence\n",
    "        break"
   ]
  },
  {
   "cell_type": "code",
   "execution_count": 9,
   "metadata": {},
   "outputs": [
    {
     "data": {
      "image/png": "[encoded data removed]",
      "text/plain": [
       "<matplotlib.figure.Figure at 0x7f7508406c88>"
      ]
     },
     "metadata": {},
     "output_type": "display_data"
    },
    {
     "name": "stdout",
     "output_type": "stream",
     "text": [
      "x : [-0.70745963], y : [-0.70745963]\n",
      "f(x) : [-1.41491926] when c(x) : [ 0.00099826]\n"
     ]
    }
   ],
   "source": [
    "plt.plot(f_x_tract, 'r-', label = \"f(x)\")\n",
    "plt.plot(c_x_tract, 'g-', label = \"C(x)\")\n",
    "plt.plot(lamb_tract, 'b-',label = \"Lambda\")\n",
    "plt.legend()\n",
    "plt.title(\"Tract of the value\")\n",
    "plt.show()\n",
    "print(\"x : {}, y : {}\".format(sess.run(x), sess.run(y)))\n",
    "print(\"f(x) : {} when c(x) : {}\".format(sess.run(f_x), sess.run(c_x)))"
   ]
  }
 ],
 "metadata": {
  "kernelspec": {
   "display_name": "Python 3",
   "language": "python",
   "name": "python3"
  },
  "language_info": {
   "codemirror_mode": {
    "name": "ipython",
    "version": 3
   },
   "file_extension": ".py",
   "mimetype": "text/x-python",
   "name": "python",
   "nbconvert_exporter": "python",
   "pygments_lexer": "ipython3",
   "version": "3.5.3"
  }
 },
 "nbformat": 4,
 "nbformat_minor": 2
}
